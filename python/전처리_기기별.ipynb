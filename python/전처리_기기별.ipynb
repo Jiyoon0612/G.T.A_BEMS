{
 "cells": [
  {
   "cell_type": "code",
   "execution_count": 17,
   "id": "98db5d9e",
   "metadata": {},
   "outputs": [],
   "source": [
    "import pandas as pd"
   ]
  },
  {
   "cell_type": "code",
   "execution_count": 18,
   "id": "2de3a7ee",
   "metadata": {},
   "outputs": [],
   "source": [
    "# CSV 파일을 읽기\n",
    "df = pd.read_csv(\"C:/Users/rlarb/Downloads/2018Floor6.csv\")"
   ]
  },
  {
   "cell_type": "code",
   "execution_count": 19,
   "id": "53491698",
   "metadata": {},
   "outputs": [
    {
     "name": "stdout",
     "output_type": "stream",
     "text": [
      "<class 'pandas.core.frame.DataFrame'>\n",
      "RangeIndex: 264960 entries, 0 to 264959\n",
      "Data columns (total 30 columns):\n",
      " #   Column        Non-Null Count   Dtype  \n",
      "---  ------        --------------   -----  \n",
      " 0   Date          264960 non-null  object \n",
      " 1   z1_AC1(kW)    264487 non-null  float64\n",
      " 2   z1_Light(kW)  264458 non-null  float64\n",
      " 3   z1_Plug(kW)   264428 non-null  float64\n",
      " 4   z1_S1(degC)   101122 non-null  float64\n",
      " 5   z1_S1(RH%)    101122 non-null  float64\n",
      " 6   z1_S1(lux)    101122 non-null  float64\n",
      " 7   z2_AC1(kW)    264486 non-null  float64\n",
      " 8   z2_Light(kW)  264458 non-null  float64\n",
      " 9   z2_Plug(kW)   264526 non-null  float64\n",
      " 10  z2_S1(degC)   103434 non-null  float64\n",
      " 11  z2_S1(RH%)    103434 non-null  float64\n",
      " 12  z2_S1(lux)    103434 non-null  float64\n",
      " 13  z3_Light(kW)  264527 non-null  float64\n",
      " 14  z3_Plug(kW)   264519 non-null  float64\n",
      " 15  z4_AC1(kW)    262746 non-null  float64\n",
      " 16  z4_AC2(kW)    262746 non-null  float64\n",
      " 17  z4_AC3(kW)    262746 non-null  float64\n",
      " 18  z4_AC4(kW)    264487 non-null  float64\n",
      " 19  z4_Light(kW)  263552 non-null  float64\n",
      " 20  z4_Plug(kW)   264517 non-null  float64\n",
      " 21  z4_S1(degC)   103633 non-null  float64\n",
      " 22  z4_S1(RH%)    103633 non-null  float64\n",
      " 23  z4_S1(lux)    103633 non-null  float64\n",
      " 24  z5_AC1(kW)    264487 non-null  float64\n",
      " 25  z5_Light(kW)  263314 non-null  float64\n",
      " 26  z5_Plug(kW)   263552 non-null  float64\n",
      " 27  z5_S1(degC)   102297 non-null  float64\n",
      " 28  z5_S1(RH%)    102297 non-null  float64\n",
      " 29  z5_S1(lux)    102297 non-null  float64\n",
      "dtypes: float64(29), object(1)\n",
      "memory usage: 60.6+ MB\n"
     ]
    }
   ],
   "source": [
    "df.info()"
   ]
  },
  {
   "cell_type": "code",
   "execution_count": 20,
   "id": "24270b40",
   "metadata": {},
   "outputs": [],
   "source": [
    "#Date칼럼 datetime형식변환\n",
    "df['Date'] = pd.to_datetime(df['Date'])"
   ]
  },
  {
   "cell_type": "code",
   "execution_count": 21,
   "id": "2d817bdb",
   "metadata": {},
   "outputs": [],
   "source": [
    "#결측치 처리(이전데이터로 결측치 재우기)\n",
    "df.fillna(method='ffill', inplace=True)\n"
   ]
  },
  {
   "cell_type": "code",
   "execution_count": 22,
   "id": "b429e7af",
   "metadata": {},
   "outputs": [],
   "source": [
    "# 'AC', 'Light', 'Plug' 단어를 포함한 칼럼들을 찾아 합산하여 새로운 칼럼으로 추가\n",
    "ac_columns = [col for col in df.columns if 'AC' in col]\n",
    "light_columns = [col for col in df.columns if 'Light' in col]\n",
    "plug_columns = [col for col in df.columns if 'Plug' in col]\n",
    "\n",
    "df['be_ac_energy'] = df[ac_columns].sum(axis=1)\n",
    "df['be_light_energy'] = df[light_columns].sum(axis=1)\n",
    "df['be_plug_energy'] = df[plug_columns].sum(axis=1)"
   ]
  },
  {
   "cell_type": "code",
   "execution_count": 23,
   "id": "e2ed0e08",
   "metadata": {},
   "outputs": [],
   "source": [
    "# 'Date' 칼럼명을 'be_date'로 변경\n",
    "df.rename(columns={'Date': 'be_date'}, inplace=True)"
   ]
  },
  {
   "cell_type": "code",
   "execution_count": 24,
   "id": "569518b7",
   "metadata": {},
   "outputs": [
    {
     "name": "stdout",
     "output_type": "stream",
     "text": [
      "<class 'pandas.core.frame.DataFrame'>\n",
      "RangeIndex: 264960 entries, 0 to 264959\n",
      "Data columns (total 33 columns):\n",
      " #   Column           Non-Null Count   Dtype         \n",
      "---  ------           --------------   -----         \n",
      " 0   be_date          264960 non-null  datetime64[ns]\n",
      " 1   z1_AC1(kW)       264960 non-null  float64       \n",
      " 2   z1_Light(kW)     264960 non-null  float64       \n",
      " 3   z1_Plug(kW)      264960 non-null  float64       \n",
      " 4   z1_S1(degC)      264960 non-null  float64       \n",
      " 5   z1_S1(RH%)       264960 non-null  float64       \n",
      " 6   z1_S1(lux)       264960 non-null  float64       \n",
      " 7   z2_AC1(kW)       264960 non-null  float64       \n",
      " 8   z2_Light(kW)     264960 non-null  float64       \n",
      " 9   z2_Plug(kW)      264960 non-null  float64       \n",
      " 10  z2_S1(degC)      264960 non-null  float64       \n",
      " 11  z2_S1(RH%)       264960 non-null  float64       \n",
      " 12  z2_S1(lux)       264960 non-null  float64       \n",
      " 13  z3_Light(kW)     264960 non-null  float64       \n",
      " 14  z3_Plug(kW)      264960 non-null  float64       \n",
      " 15  z4_AC1(kW)       264960 non-null  float64       \n",
      " 16  z4_AC2(kW)       264960 non-null  float64       \n",
      " 17  z4_AC3(kW)       264960 non-null  float64       \n",
      " 18  z4_AC4(kW)       264960 non-null  float64       \n",
      " 19  z4_Light(kW)     264960 non-null  float64       \n",
      " 20  z4_Plug(kW)      264960 non-null  float64       \n",
      " 21  z4_S1(degC)      264960 non-null  float64       \n",
      " 22  z4_S1(RH%)       264960 non-null  float64       \n",
      " 23  z4_S1(lux)       264960 non-null  float64       \n",
      " 24  z5_AC1(kW)       264960 non-null  float64       \n",
      " 25  z5_Light(kW)     264960 non-null  float64       \n",
      " 26  z5_Plug(kW)      264960 non-null  float64       \n",
      " 27  z5_S1(degC)      264960 non-null  float64       \n",
      " 28  z5_S1(RH%)       264960 non-null  float64       \n",
      " 29  z5_S1(lux)       264960 non-null  float64       \n",
      " 30  be_ac_energy     264960 non-null  float64       \n",
      " 31  be_light_energy  264960 non-null  float64       \n",
      " 32  be_plug_energy   264960 non-null  float64       \n",
      "dtypes: datetime64[ns](1), float64(32)\n",
      "memory usage: 66.7 MB\n"
     ]
    }
   ],
   "source": [
    "df.info()"
   ]
  },
  {
   "cell_type": "code",
   "execution_count": 10,
   "id": "e113b438",
   "metadata": {},
   "outputs": [],
   "source": [
    "# 필요한 칼럼들만 선택하여 재생성\n",
    "df = df[['be_date', 'be_ac_energy', 'be_light_energy', 'be_plug_energy']]"
   ]
  },
  {
   "cell_type": "code",
   "execution_count": 11,
   "id": "2812c92b",
   "metadata": {},
   "outputs": [
    {
     "name": "stdout",
     "output_type": "stream",
     "text": [
      "<class 'pandas.core.frame.DataFrame'>\n",
      "RangeIndex: 264960 entries, 0 to 264959\n",
      "Data columns (total 4 columns):\n",
      " #   Column           Non-Null Count   Dtype         \n",
      "---  ------           --------------   -----         \n",
      " 0   be_date          264960 non-null  datetime64[ns]\n",
      " 1   be_ac_energy     264960 non-null  float64       \n",
      " 2   be_light_energy  264960 non-null  float64       \n",
      " 3   be_plug_energy   264960 non-null  float64       \n",
      "dtypes: datetime64[ns](1), float64(3)\n",
      "memory usage: 8.1 MB\n"
     ]
    }
   ],
   "source": [
    "df.info()"
   ]
  },
  {
   "cell_type": "code",
   "execution_count": 12,
   "id": "46b6fff3",
   "metadata": {},
   "outputs": [],
   "source": [
    "# 'be_floor' 칼럼생성후 층수입력\n",
    "df['be_floor'] = 6"
   ]
  },
  {
   "cell_type": "code",
   "execution_count": 14,
   "id": "bfdec09b",
   "metadata": {},
   "outputs": [
    {
     "data": {
      "text/html": [
       "<div>\n",
       "<style scoped>\n",
       "    .dataframe tbody tr th:only-of-type {\n",
       "        vertical-align: middle;\n",
       "    }\n",
       "\n",
       "    .dataframe tbody tr th {\n",
       "        vertical-align: top;\n",
       "    }\n",
       "\n",
       "    .dataframe thead th {\n",
       "        text-align: right;\n",
       "    }\n",
       "</style>\n",
       "<table border=\"1\" class=\"dataframe\">\n",
       "  <thead>\n",
       "    <tr style=\"text-align: right;\">\n",
       "      <th></th>\n",
       "      <th>be_date</th>\n",
       "      <th>be_ac_energy</th>\n",
       "      <th>be_light_energy</th>\n",
       "      <th>be_plug_energy</th>\n",
       "      <th>be_floor</th>\n",
       "    </tr>\n",
       "  </thead>\n",
       "  <tbody>\n",
       "    <tr>\n",
       "      <th>0</th>\n",
       "      <td>2018-07-01 00:00:00</td>\n",
       "      <td>0.0</td>\n",
       "      <td>0.03</td>\n",
       "      <td>0.79</td>\n",
       "      <td>6</td>\n",
       "    </tr>\n",
       "    <tr>\n",
       "      <th>1</th>\n",
       "      <td>2018-07-01 00:01:00</td>\n",
       "      <td>0.0</td>\n",
       "      <td>0.03</td>\n",
       "      <td>0.78</td>\n",
       "      <td>6</td>\n",
       "    </tr>\n",
       "    <tr>\n",
       "      <th>2</th>\n",
       "      <td>2018-07-01 00:02:00</td>\n",
       "      <td>0.0</td>\n",
       "      <td>0.03</td>\n",
       "      <td>0.83</td>\n",
       "      <td>6</td>\n",
       "    </tr>\n",
       "    <tr>\n",
       "      <th>3</th>\n",
       "      <td>2018-07-01 00:03:00</td>\n",
       "      <td>0.0</td>\n",
       "      <td>0.03</td>\n",
       "      <td>0.89</td>\n",
       "      <td>6</td>\n",
       "    </tr>\n",
       "    <tr>\n",
       "      <th>4</th>\n",
       "      <td>2018-07-01 00:04:00</td>\n",
       "      <td>0.0</td>\n",
       "      <td>0.03</td>\n",
       "      <td>0.88</td>\n",
       "      <td>6</td>\n",
       "    </tr>\n",
       "  </tbody>\n",
       "</table>\n",
       "</div>"
      ],
      "text/plain": [
       "              be_date  be_ac_energy  be_light_energy  be_plug_energy  be_floor\n",
       "0 2018-07-01 00:00:00           0.0             0.03            0.79         6\n",
       "1 2018-07-01 00:01:00           0.0             0.03            0.78         6\n",
       "2 2018-07-01 00:02:00           0.0             0.03            0.83         6\n",
       "3 2018-07-01 00:03:00           0.0             0.03            0.89         6\n",
       "4 2018-07-01 00:04:00           0.0             0.03            0.88         6"
      ]
     },
     "execution_count": 14,
     "metadata": {},
     "output_type": "execute_result"
    }
   ],
   "source": [
    "df.head()"
   ]
  },
  {
   "cell_type": "code",
   "execution_count": 15,
   "id": "df14cbb4",
   "metadata": {},
   "outputs": [],
   "source": [
    "# 전처리된 데이터프레임을 새로운 CSV 파일로 저장\n",
    "df.to_csv('be_6_energy.csv', index=False)"
   ]
  }
 ],
 "metadata": {
  "kernelspec": {
   "display_name": "base",
   "language": "python",
   "name": "base"
  },
  "language_info": {
   "codemirror_mode": {
    "name": "ipython",
    "version": 3
   },
   "file_extension": ".py",
   "mimetype": "text/x-python",
   "name": "python",
   "nbconvert_exporter": "python",
   "pygments_lexer": "ipython3",
   "version": "3.9.18"
  }
 },
 "nbformat": 4,
 "nbformat_minor": 5
}
